{
  "nbformat": 4,
  "nbformat_minor": 0,
  "metadata": {
    "colab": {
      "provenance": []
    },
    "kernelspec": {
      "name": "python3",
      "display_name": "Python 3"
    },
    "language_info": {
      "name": "python"
    }
  },
  "cells": [
    {
      "cell_type": "code",
      "execution_count": null,
      "metadata": {
        "id": "UHluANF_38-c"
      },
      "outputs": [],
      "source": [
        "import pandas as pd\n",
        "import numpy as np\n",
        "\n",
        "# URL to the raw CSV file in the GitHub release\n",
        "csv_url = 'https://github.com/Joeyvdelft/SemesterProject/releases/download/File/CPS.Demographic.Data.Semester.Project.csv'\n",
        "\n",
        "# Read the CSV file into a DataFrame\n",
        "data = pd.read_csv(csv_url)\n",
        "\n",
        "# Convert year and month to a datetime format and sort the data\n",
        "data['Date'] = pd.to_datetime(data['HRYEAR4'].astype(str) + data['HRMONTH'].astype(str).str.zfill(2), format='%Y%m')\n",
        "data.sort_values(by='Date', inplace=True)\n",
        "\n",
        "# Update the cities list\n",
        "cities = ['New York', 'Chicago', 'Minneapolis', 'Atlanta', 'Houston', 'Seattle', 'Phoenix', 'Miami']\n",
        "\n",
        "# Filter data to include only the cities in the list\n",
        "data = data[data['City'].isin(cities)]\n",
        "\n",
        "# Define the variables\n",
        "numeric_vars = ['PRTAGE', 'PESEX']  # Numeric variables to average\n",
        "categorical_vars = ['PTDTRACE', 'PEEDUCA', 'PEMARITL', 'PEMLR', 'HEFAMINC']  # Categorical variables to count\n",
        "\n",
        "# Process numeric variables\n",
        "for var in numeric_vars:\n",
        "    data[var] = pd.to_numeric(data[var], errors='coerce')  # Convert to numeric, handling non-numeric entries\n",
        "    data[f'{var}_mean'] = data.groupby(['Date', 'City'])[var].transform('mean')\n",
        "\n",
        "# Process categorical variables\n",
        "categorical_summary = pd.DataFrame()\n",
        "for var in categorical_vars:\n",
        "    # Pivot table with counts of each category per city per month\n",
        "    pivot = data.pivot_table(index=['Date', 'City'], columns=var, aggfunc='size', fill_value=0)\n",
        "    pivot.columns = [f'{var}_{col}' for col in pivot.columns]  # Rename columns\n",
        "    if categorical_summary.empty:\n",
        "        categorical_summary = pivot\n",
        "    else:\n",
        "        categorical_summary = categorical_summary.join(pivot, how='outer')\n",
        "\n",
        "# Combine numeric averages with categorical counts\n",
        "final_data = data[['Date', 'City'] + [f'{var}_mean' for var in numeric_vars]].drop_duplicates()\n",
        "final_data = final_data.merge(categorical_summary, on=['Date', 'City'], how='outer')\n",
        "\n",
        "# Save the processed data to a new CSV file\n",
        "final_data.to_csv('Processed.Demographic.Data.csv', index=False)\n",
        "print(\"Data processing complete. The processed dataset is saved as 'Processed.Demographic.Data.csv'.\")\n",
        "\n",
        "final_data.head()  # Display the first few rows of the processed data"
      ]
    }
  ]
}